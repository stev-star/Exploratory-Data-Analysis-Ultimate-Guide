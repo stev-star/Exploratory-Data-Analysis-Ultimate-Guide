{
 "cells": [
  {
   "cell_type": "code",
   "execution_count": 1,
   "metadata": {},
   "outputs": [
    {
     "name": "stdout",
     "output_type": "stream",
     "text": [
      "6\n"
     ]
    }
   ],
   "source": [
    "# array sum\n",
    "def sum(arr):\n",
    "    sum=0\n",
    "\n",
    "    for i in arr:\n",
    "        sum=sum+i\n",
    "    \n",
    "    return(sum)\n",
    "\n",
    "arr=[]\n",
    "\n",
    "arr=[1,2,3]\n",
    "ans=sum(arr)\n",
    "print(ans)\n"
   ]
  },
  {
   "cell_type": "code",
   "execution_count": 2,
   "metadata": {},
   "outputs": [
    {
     "name": "stdout",
     "output_type": "stream",
     "text": [
      "6\n"
     ]
    }
   ],
   "source": [
    "arr=[1,2,3]\n",
    "\n",
    "ans=0\n",
    "for i ,a in enumerate(arr):\n",
    "    ans+=a\n",
    "    \n",
    "print(ans)"
   ]
  }
 ],
 "metadata": {
  "kernelspec": {
   "display_name": "Python 3",
   "language": "python",
   "name": "python3"
  },
  "language_info": {
   "codemirror_mode": {
    "name": "ipython",
    "version": 3
   },
   "file_extension": ".py",
   "mimetype": "text/x-python",
   "name": "python",
   "nbconvert_exporter": "python",
   "pygments_lexer": "ipython3",
   "version": "3.10.7"
  },
  "orig_nbformat": 4,
  "vscode": {
   "interpreter": {
    "hash": "9aa35706b8240673f64110bf0e53af9de07b6fe568279410737684274bc6a9e5"
   }
  }
 },
 "nbformat": 4,
 "nbformat_minor": 2
}
